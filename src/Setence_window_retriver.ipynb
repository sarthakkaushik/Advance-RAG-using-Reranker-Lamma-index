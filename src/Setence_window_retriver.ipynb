{
 "cells": [
  {
   "cell_type": "code",
   "execution_count": 48,
   "metadata": {},
   "outputs": [],
   "source": [
    "import os\n",
    "import openai\n",
    "from llama_index import SimpleDirectoryReader\n",
    "from llama_index.embeddings import HuggingFaceEmbedding\n",
    "\n",
    "from dotenv import load_dotenv"
   ]
  },
  {
   "cell_type": "code",
   "execution_count": 6,
   "metadata": {},
   "outputs": [],
   "source": [
    "# loading the openai key\n",
    "load_dotenv()\n",
    "open_api_key=os.environ['OPENAI_API_KEY']\n",
    "openai.api_key=open_api_key"
   ]
  },
  {
   "cell_type": "code",
   "execution_count": 25,
   "metadata": {},
   "outputs": [],
   "source": [
    "# Loading and cchunking the documents\n",
    "\n",
    "documents=SimpleDirectoryReader(\n",
    "    input_files=[\"../data/Machine Learning Engineering with Python-2023.pdf\"]\n",
    ").load_data()\n"
   ]
  },
  {
   "cell_type": "code",
   "execution_count": 38,
   "metadata": {},
   "outputs": [
    {
     "name": "stdout",
     "output_type": "stream",
     "text": [
      "<class 'list'> \n",
      "\n",
      "463 \n",
      "\n",
      "<class 'llama_index.schema.Document'>\n",
      "Machine Learning Engineering with Python\n",
      "Second Edition\n",
      "Copyright © 2023 Packt Publishing\n",
      "All rights reserved. No part of this book may be reproduced, stored in a retrieval system, or transmitted in \n",
      "any form or by any means, without the prior written permission of the publisher, except in the case of brief \n",
      "quotations embedded in critical articles or reviews.\n",
      "Every effort has been made in the preparation of this book to ensure the accuracy of the information \n",
      "presented. However, the information contained in this book is sold without warranty, either express or \n",
      "implied. Neither the author nor Packt Publishing or its dealers and distributors, will be held liable for any \n",
      "damages caused or alleged to have been caused directly or indirectly by this book.\n",
      "Packt Publishing has endeavored to provide trademark information about all of the companies and products \n",
      "mentioned in this book by the appropriate use of capitals. However, Packt Publishing cannot guarantee \n",
      "the accuracy of this information.\n",
      "Publishing Product Manager: Bhavesh Amin\n",
      "Acquisition Editor – Peer Reviews: Gaurav Gavas\n",
      "Project Editor:  Amisha Vathare\n",
      "Content Development Editor:  Elliot Dallow\n",
      "Copy Editor:  Safis Editing\n",
      "Technical Editor:  Anjitha Murali\n",
      "Proofreader:  Safis Editing\n",
      "Indexer: Subalakshmi Govindhan\n",
      "Presentation Designer:  Rajesh Shirsath\n",
      "Developer Relations Marketing Executive: Monika Sangwan\n",
      "First published: November 2021\n",
      "Second edition: August 2023\n",
      "Production reference: 2280823\n",
      "Published by Packt Publishing Ltd. \n",
      "Grosvenor House\n",
      "11 St Paul’s Square\n",
      "Birmingham \n",
      "B3 1RB, UK.\n",
      "ISBN 978-1-83763-196-4\n",
      "www.packt.com\n",
      "\n",
      "1609\n",
      "1434\n",
      "1641\n"
     ]
    }
   ],
   "source": [
    "#Checking the summary of chunked documents\n",
    "print(type(documents), \"\\n\")\n",
    "print(len(documents), \"\\n\")\n",
    "print(type(documents[0]))\n",
    "print(documents[2].text)\n",
    "print(len(documents[2].text))\n",
    "print(len(documents[10].text))\n",
    "print(len(documents[22].text))\n",
    "\n",
    "\n"
   ]
  },
  {
   "cell_type": "markdown",
   "metadata": {},
   "source": [
    "## Basic RAG pipeline"
   ]
  },
  {
   "cell_type": "code",
   "execution_count": 47,
   "metadata": {},
   "outputs": [
    {
     "data": {
      "text/plain": [
       "Document(id_='6cb949d7-e460-476c-858d-0dbef45a8c73', embedding=None, metadata={}, excluded_embed_metadata_keys=[], excluded_llm_metadata_keys=[], relationships={}, hash='44136fa355b3678a1146ad16f7e8649e94fb4fc21fe77e8310c060f61caaff8a', text='', start_char_idx=None, end_char_idx=None, text_template='{metadata_str}\\n\\n{content}', metadata_template='{key}: {value}', metadata_seperator='\\n')"
      ]
     },
     "execution_count": 47,
     "metadata": {},
     "output_type": "execute_result"
    }
   ],
   "source": [
    "# Combining the all chunked text into single documents\n",
    "from llama_index import Document\n",
    "\n",
    "documnet=Document(tetx=\"\\n\\n\".join([doc.text for doc in documents]))\n",
    "documnet"
   ]
  },
  {
   "cell_type": "code",
   "execution_count": 49,
   "metadata": {},
   "outputs": [
    {
     "ename": "ImportError",
     "evalue": "cannot import name 'OpenAI' from 'llama_index' (c:\\Users\\sarthakkaushik\\.conda\\envs\\Adv_RAG_lamaindx_venv\\lib\\site-packages\\llama_index\\__init__.py)",
     "output_type": "error",
     "traceback": [
      "\u001b[1;31m---------------------------------------------------------------------------\u001b[0m",
      "\u001b[1;31mImportError\u001b[0m                               Traceback (most recent call last)",
      "\u001b[1;32mc:\\Sarthak\\Advance-RAG-using-Reranker-Lamma-index\\src\\Setence_window_retriver.ipynb Cell 7\u001b[0m line \u001b[0;36m4\n\u001b[0;32m      <a href='vscode-notebook-cell:/c%3A/Sarthak/Advance-RAG-using-Reranker-Lamma-index/src/Setence_window_retriver.ipynb#X10sZmlsZQ%3D%3D?line=1'>2</a>\u001b[0m \u001b[39mfrom\u001b[39;00m \u001b[39mllama_index\u001b[39;00m \u001b[39mimport\u001b[39;00m VectorStoreIndex\n\u001b[0;32m      <a href='vscode-notebook-cell:/c%3A/Sarthak/Advance-RAG-using-Reranker-Lamma-index/src/Setence_window_retriver.ipynb#X10sZmlsZQ%3D%3D?line=2'>3</a>\u001b[0m \u001b[39mfrom\u001b[39;00m \u001b[39mllama_index\u001b[39;00m \u001b[39mimport\u001b[39;00m ServiceContext\n\u001b[1;32m----> <a href='vscode-notebook-cell:/c%3A/Sarthak/Advance-RAG-using-Reranker-Lamma-index/src/Setence_window_retriver.ipynb#X10sZmlsZQ%3D%3D?line=3'>4</a>\u001b[0m \u001b[39mfrom\u001b[39;00m \u001b[39mllama_index\u001b[39;00m \u001b[39mimport\u001b[39;00m OpenAI\n\u001b[0;32m      <a href='vscode-notebook-cell:/c%3A/Sarthak/Advance-RAG-using-Reranker-Lamma-index/src/Setence_window_retriver.ipynb#X10sZmlsZQ%3D%3D?line=5'>6</a>\u001b[0m \u001b[39m#config llm\u001b[39;00m\n\u001b[0;32m      <a href='vscode-notebook-cell:/c%3A/Sarthak/Advance-RAG-using-Reranker-Lamma-index/src/Setence_window_retriver.ipynb#X10sZmlsZQ%3D%3D?line=6'>7</a>\u001b[0m llm\u001b[39m=\u001b[39m OpenAI(model\u001b[39m=\u001b[39m\u001b[39m\"\u001b[39m\u001b[39mgpt-3.5-turbo\u001b[39m\u001b[39m\"\u001b[39m,temperature\u001b[39m=\u001b[39m\u001b[39m0.1\u001b[39m) \n",
      "\u001b[1;31mImportError\u001b[0m: cannot import name 'OpenAI' from 'llama_index' (c:\\Users\\sarthakkaushik\\.conda\\envs\\Adv_RAG_lamaindx_venv\\lib\\site-packages\\llama_index\\__init__.py)"
     ]
    }
   ],
   "source": [
    "# Creating index\n",
    "from llama_index import VectorStoreIndex\n",
    "from llama_index import ServiceContext\n",
    "from llama_index import OpenAI\n",
    "\n",
    "#config llm\n",
    "llm= OpenAI(model=\"gpt-3.5-turbo\",temperature=0.1) \n",
    "#config embedding\n",
    "embed_model = HuggingFaceEmbedding(model_name=\"BAAI/bge-small-en-v1.5\")\n",
    "\n",
    "service_context=ServiceContext.from_defaults(\n",
    "    llm=llm,\n",
    "    embed_model= embed_model\n",
    ")\n",
    "\n",
    "index= VectorStoreIndex.from_documents([documnet],\n",
    "                                       service_context=service_context)"
   ]
  }
 ],
 "metadata": {
  "kernelspec": {
   "display_name": "Adv_RAG_lamaindx_venv",
   "language": "python",
   "name": "python3"
  },
  "language_info": {
   "codemirror_mode": {
    "name": "ipython",
    "version": 3
   },
   "file_extension": ".py",
   "mimetype": "text/x-python",
   "name": "python",
   "nbconvert_exporter": "python",
   "pygments_lexer": "ipython3",
   "version": "3.10.0"
  }
 },
 "nbformat": 4,
 "nbformat_minor": 2
}
