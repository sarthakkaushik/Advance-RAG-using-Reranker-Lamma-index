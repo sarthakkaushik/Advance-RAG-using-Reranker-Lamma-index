{
 "cells": [
  {
   "cell_type": "code",
   "execution_count": 1,
   "metadata": {},
   "outputs": [],
   "source": [
    "import os\n",
    "import openai\n",
    "from llama_index import SimpleDirectoryReader\n",
    "from llama_index.embeddings import HuggingFaceEmbedding\n",
    "\n",
    "from dotenv import load_dotenv\n",
    "\n"
   ]
  },
  {
   "cell_type": "code",
   "execution_count": 2,
   "metadata": {},
   "outputs": [
    {
     "name": "stdout",
     "output_type": "stream",
     "text": [
      "🦑 Tru initialized with db url sqlite:///default.sqlite .\n",
      "🛑 Secret keys may be written to the database. See the `database_redact_keys` option of `Tru` to prevent this.\n"
     ]
    }
   ],
   "source": [
    "import sys\n",
    "sys.path.append(\"..\")\n",
    "from utils_Metrics import get_prebuilt_trulens_recorder\n",
    "\n",
    "from utils_Adv_RAG_Retriver import build_sentence_window_index"
   ]
  },
  {
   "cell_type": "code",
   "execution_count": 3,
   "metadata": {},
   "outputs": [],
   "source": [
    "# loading the openai key\n",
    "load_dotenv()\n",
    "open_api_key=os.environ['OPENAI_API_KEY']\n",
    "openai.api_key=open_api_key"
   ]
  },
  {
   "cell_type": "code",
   "execution_count": 4,
   "metadata": {},
   "outputs": [],
   "source": [
    "# Loading and cchunking the documents\n",
    "\n",
    "documents=SimpleDirectoryReader(\n",
    "    input_files=[\"../data/Machine Learning Engineering with Python-2023.pdf\"]\n",
    ").load_data()\n"
   ]
  },
  {
   "cell_type": "code",
   "execution_count": 5,
   "metadata": {},
   "outputs": [
    {
     "name": "stdout",
     "output_type": "stream",
     "text": [
      "<class 'list'> \n",
      "\n",
      "463 \n",
      "\n",
      "<class 'llama_index.schema.Document'>\n",
      "Machine Learning Engineering with Python\n",
      "Second Edition\n",
      "Copyright © 2023 Packt Publishing\n",
      "All rights reserved. No part of this book may be reproduced, stored in a retrieval system, or transmitted in \n",
      "any form or by any means, without the prior written permission of the publisher, except in the case of brief \n",
      "quotations embedded in critical articles or reviews.\n",
      "Every effort has been made in the preparation of this book to ensure the accuracy of the information \n",
      "presented. However, the information contained in this book is sold without warranty, either express or \n",
      "implied. Neither the author nor Packt Publishing or its dealers and distributors, will be held liable for any \n",
      "damages caused or alleged to have been caused directly or indirectly by this book.\n",
      "Packt Publishing has endeavored to provide trademark information about all of the companies and products \n",
      "mentioned in this book by the appropriate use of capitals. However, Packt Publishing cannot guarantee \n",
      "the accuracy of this information.\n",
      "Publishing Product Manager: Bhavesh Amin\n",
      "Acquisition Editor – Peer Reviews: Gaurav Gavas\n",
      "Project Editor:  Amisha Vathare\n",
      "Content Development Editor:  Elliot Dallow\n",
      "Copy Editor:  Safis Editing\n",
      "Technical Editor:  Anjitha Murali\n",
      "Proofreader:  Safis Editing\n",
      "Indexer: Subalakshmi Govindhan\n",
      "Presentation Designer:  Rajesh Shirsath\n",
      "Developer Relations Marketing Executive: Monika Sangwan\n",
      "First published: November 2021\n",
      "Second edition: August 2023\n",
      "Production reference: 2280823\n",
      "Published by Packt Publishing Ltd. \n",
      "Grosvenor House\n",
      "11 St Paul’s Square\n",
      "Birmingham \n",
      "B3 1RB, UK.\n",
      "ISBN 978-1-83763-196-4\n",
      "www.packt.com\n",
      "\n",
      "1609\n",
      "1434\n",
      "1641\n"
     ]
    }
   ],
   "source": [
    "#Checking the summary of chunked documents\n",
    "print(type(documents), \"\\n\")\n",
    "print(len(documents), \"\\n\")\n",
    "print(type(documents[0]))\n",
    "print(documents[2].text)\n",
    "print(len(documents[2].text))\n",
    "print(len(documents[10].text))\n",
    "print(len(documents[22].text))\n",
    "\n",
    "\n"
   ]
  },
  {
   "cell_type": "markdown",
   "metadata": {},
   "source": [
    "## Basic RAG pipeline"
   ]
  },
  {
   "cell_type": "code",
   "execution_count": 6,
   "metadata": {},
   "outputs": [
    {
     "data": {
      "text/plain": [
       "Document(id_='de50a7cc-9cf8-49bc-a4a6-e5a6aa5d94b5', embedding=None, metadata={}, excluded_embed_metadata_keys=[], excluded_llm_metadata_keys=[], relationships={}, hash='44136fa355b3678a1146ad16f7e8649e94fb4fc21fe77e8310c060f61caaff8a', text='', start_char_idx=None, end_char_idx=None, text_template='{metadata_str}\\n\\n{content}', metadata_template='{key}: {value}', metadata_seperator='\\n')"
      ]
     },
     "execution_count": 6,
     "metadata": {},
     "output_type": "execute_result"
    }
   ],
   "source": [
    "# Combining the all chunked text into single documents\n",
    "from llama_index import Document\n",
    "\n",
    "documnet=Document(tetx=\"\\n\\n\".join([doc.text for doc in documents]))\n",
    "documnet"
   ]
  },
  {
   "cell_type": "code",
   "execution_count": 7,
   "metadata": {},
   "outputs": [],
   "source": [
    "# Creating index\n",
    "from llama_index import VectorStoreIndex\n",
    "from llama_index import ServiceContext\n",
    "from llama_index.llms import OpenAI\n",
    "\n",
    "#config llm\n",
    "llm= OpenAI(model=\"gpt-3.5-turbo\",temperature=0.1) \n",
    "#config embedding\n",
    "embed_model = HuggingFaceEmbedding(model_name=\"BAAI/bge-small-en-v1.5\")\n",
    "\n",
    "service_context=ServiceContext.from_defaults(\n",
    "    llm=llm,\n",
    "    embed_model= embed_model\n",
    ")\n",
    "\n",
    "index= VectorStoreIndex.from_documents([documnet],\n",
    "                                       service_context=service_context)"
   ]
  },
  {
   "cell_type": "code",
   "execution_count": 8,
   "metadata": {},
   "outputs": [],
   "source": [
    "query_engine= index.as_query_engine()"
   ]
  },
  {
   "cell_type": "code",
   "execution_count": 9,
   "metadata": {},
   "outputs": [
    {
     "name": "stdout",
     "output_type": "stream",
     "text": [
      "One way to analyze your own code for security issues is to conduct a thorough code review. This involves carefully examining the code line by line to identify any potential vulnerabilities or weaknesses. Additionally, using automated code analysis tools can help to identify common security issues such as SQL injection or cross-site scripting. Regularly updating and patching your code, as well as following secure coding practices, can also help to mitigate security risks.\n"
     ]
    }
   ],
   "source": [
    "response=query_engine.query(\"How can we analyzing your own code for security issues\")\n",
    "print(str(response))"
   ]
  },
  {
   "cell_type": "markdown",
   "metadata": {},
   "source": [
    "## Evaluation setup using TruLens"
   ]
  },
  {
   "cell_type": "code",
   "execution_count": 10,
   "metadata": {},
   "outputs": [
    {
     "name": "stdout",
     "output_type": "stream",
     "text": [
      "How can we analyzing your own code for security issues\n"
     ]
    }
   ],
   "source": [
    "eval_questions = []\n",
    "with open('../eval_questions.txt', 'r') as file:\n",
    "    for line in file:\n",
    "        # Remove newline character and convert to integer\n",
    "        item = line.strip()\n",
    "        print(item)\n",
    "        eval_questions.append(item)"
   ]
  },
  {
   "cell_type": "code",
   "execution_count": 11,
   "metadata": {},
   "outputs": [],
   "source": [
    "# Adding new question:\n",
    "new_question = \"How to publish in ECR\"\n",
    "eval_questions.append(new_question)\n"
   ]
  },
  {
   "cell_type": "code",
   "execution_count": 12,
   "metadata": {},
   "outputs": [
    {
     "name": "stdout",
     "output_type": "stream",
     "text": [
      "['How can we analyzing your own code for security issues', 'How to publish in ECR']\n"
     ]
    }
   ],
   "source": [
    "print(eval_questions)"
   ]
  },
  {
   "cell_type": "code",
   "execution_count": 13,
   "metadata": {},
   "outputs": [],
   "source": [
    "from trulens_eval import Tru\n",
    "tru = Tru()\n",
    "\n",
    "tru.reset_database()"
   ]
  },
  {
   "cell_type": "code",
   "execution_count": 15,
   "metadata": {},
   "outputs": [
    {
     "name": "stdout",
     "output_type": "stream",
     "text": [
      "✅ In Answer Relevance, input prompt will be set to __record__.main_input or `Select.RecordInput` .\n",
      "✅ In Answer Relevance, input response will be set to __record__.main_output or `Select.RecordOutput` .\n",
      "✅ In Context Relevance, input question will be set to __record__.main_input or `Select.RecordInput` .\n",
      "✅ In Context Relevance, input statement will be set to __record__.app.query.rets.source_nodes[:].node.text .\n",
      "✅ In Groundedness, input source will be set to __record__.app.query.rets.source_nodes[:].node.text .\n",
      "✅ In Groundedness, input statement will be set to __record__.main_output or `Select.RecordOutput` .\n"
     ]
    }
   ],
   "source": [
    "import sys\n",
    "sys.path.append(\"..\")\n",
    "from utils_Metrics import get_prebuilt_trulens_recorder\n",
    "\n",
    "tru_recorder = get_prebuilt_trulens_recorder(query_engine,\n",
    "                                             app_id=\"Direct Query Engine\")\n"
   ]
  },
  {
   "cell_type": "code",
   "execution_count": 16,
   "metadata": {},
   "outputs": [],
   "source": [
    "with tru_recorder as recording:\n",
    "    for question in eval_questions:\n",
    "        response = query_engine.query(question)"
   ]
  },
  {
   "cell_type": "code",
   "execution_count": 17,
   "metadata": {},
   "outputs": [],
   "source": [
    "records, feedback = tru.get_records_and_feedback(app_ids=[])"
   ]
  },
  {
   "cell_type": "code",
   "execution_count": 18,
   "metadata": {},
   "outputs": [
    {
     "data": {
      "text/html": [
       "<div>\n",
       "<style scoped>\n",
       "    .dataframe tbody tr th:only-of-type {\n",
       "        vertical-align: middle;\n",
       "    }\n",
       "\n",
       "    .dataframe tbody tr th {\n",
       "        vertical-align: top;\n",
       "    }\n",
       "\n",
       "    .dataframe thead th {\n",
       "        text-align: right;\n",
       "    }\n",
       "</style>\n",
       "<table border=\"1\" class=\"dataframe\">\n",
       "  <thead>\n",
       "    <tr style=\"text-align: right;\">\n",
       "      <th></th>\n",
       "      <th>app_id</th>\n",
       "      <th>app_json</th>\n",
       "      <th>type</th>\n",
       "      <th>record_id</th>\n",
       "      <th>input</th>\n",
       "      <th>output</th>\n",
       "      <th>tags</th>\n",
       "      <th>record_json</th>\n",
       "      <th>cost_json</th>\n",
       "      <th>perf_json</th>\n",
       "      <th>ts</th>\n",
       "      <th>Context Relevance</th>\n",
       "      <th>Answer Relevance</th>\n",
       "      <th>Context Relevance_calls</th>\n",
       "      <th>Answer Relevance_calls</th>\n",
       "      <th>latency</th>\n",
       "      <th>total_tokens</th>\n",
       "      <th>total_cost</th>\n",
       "    </tr>\n",
       "  </thead>\n",
       "  <tbody>\n",
       "    <tr>\n",
       "      <th>0</th>\n",
       "      <td>Direct Query Engine</td>\n",
       "      <td>{\"app_id\": \"Direct Query Engine\", \"tags\": \"-\",...</td>\n",
       "      <td>RetrieverQueryEngine(llama_index.query_engine....</td>\n",
       "      <td>record_hash_fc20ff168bd57405fe069d80deb342cc</td>\n",
       "      <td>\"How can we analyzing your own code for securi...</td>\n",
       "      <td>\"One way to analyze your own code for security...</td>\n",
       "      <td>-</td>\n",
       "      <td>{\"record_id\": \"record_hash_fc20ff168bd57405fe0...</td>\n",
       "      <td>{\"n_requests\": 1, \"n_successful_requests\": 1, ...</td>\n",
       "      <td>{\"start_time\": \"2023-12-03T13:08:50.125238\", \"...</td>\n",
       "      <td>2023-12-03T13:08:57.999792</td>\n",
       "      <td>0.0</td>\n",
       "      <td>0.9</td>\n",
       "      <td>[{'args': {'question': 'How can we analyzing y...</td>\n",
       "      <td>[{'args': {'prompt': 'How can we analyzing you...</td>\n",
       "      <td>7</td>\n",
       "      <td>198</td>\n",
       "      <td>0.000335</td>\n",
       "    </tr>\n",
       "    <tr>\n",
       "      <th>1</th>\n",
       "      <td>Direct Query Engine</td>\n",
       "      <td>{\"app_id\": \"Direct Query Engine\", \"tags\": \"-\",...</td>\n",
       "      <td>RetrieverQueryEngine(llama_index.query_engine....</td>\n",
       "      <td>record_hash_e26f2a5947684d8212f903f8ef261f74</td>\n",
       "      <td>\"How to publish in ECR\"</td>\n",
       "      <td>\"To publish in ECR, you can follow these steps...</td>\n",
       "      <td>-</td>\n",
       "      <td>{\"record_id\": \"record_hash_e26f2a5947684d8212f...</td>\n",
       "      <td>{\"n_requests\": 1, \"n_successful_requests\": 1, ...</td>\n",
       "      <td>{\"start_time\": \"2023-12-03T13:08:58.232392\", \"...</td>\n",
       "      <td>2023-12-03T13:09:10.466284</td>\n",
       "      <td>NaN</td>\n",
       "      <td>NaN</td>\n",
       "      <td>NaN</td>\n",
       "      <td>NaN</td>\n",
       "      <td>12</td>\n",
       "      <td>247</td>\n",
       "      <td>0.000436</td>\n",
       "    </tr>\n",
       "  </tbody>\n",
       "</table>\n",
       "</div>"
      ],
      "text/plain": [
       "                app_id                                           app_json  \\\n",
       "0  Direct Query Engine  {\"app_id\": \"Direct Query Engine\", \"tags\": \"-\",...   \n",
       "1  Direct Query Engine  {\"app_id\": \"Direct Query Engine\", \"tags\": \"-\",...   \n",
       "\n",
       "                                                type  \\\n",
       "0  RetrieverQueryEngine(llama_index.query_engine....   \n",
       "1  RetrieverQueryEngine(llama_index.query_engine....   \n",
       "\n",
       "                                      record_id  \\\n",
       "0  record_hash_fc20ff168bd57405fe069d80deb342cc   \n",
       "1  record_hash_e26f2a5947684d8212f903f8ef261f74   \n",
       "\n",
       "                                               input  \\\n",
       "0  \"How can we analyzing your own code for securi...   \n",
       "1                            \"How to publish in ECR\"   \n",
       "\n",
       "                                              output tags  \\\n",
       "0  \"One way to analyze your own code for security...    -   \n",
       "1  \"To publish in ECR, you can follow these steps...    -   \n",
       "\n",
       "                                         record_json  \\\n",
       "0  {\"record_id\": \"record_hash_fc20ff168bd57405fe0...   \n",
       "1  {\"record_id\": \"record_hash_e26f2a5947684d8212f...   \n",
       "\n",
       "                                           cost_json  \\\n",
       "0  {\"n_requests\": 1, \"n_successful_requests\": 1, ...   \n",
       "1  {\"n_requests\": 1, \"n_successful_requests\": 1, ...   \n",
       "\n",
       "                                           perf_json  \\\n",
       "0  {\"start_time\": \"2023-12-03T13:08:50.125238\", \"...   \n",
       "1  {\"start_time\": \"2023-12-03T13:08:58.232392\", \"...   \n",
       "\n",
       "                           ts  Context Relevance  Answer Relevance  \\\n",
       "0  2023-12-03T13:08:57.999792                0.0               0.9   \n",
       "1  2023-12-03T13:09:10.466284                NaN               NaN   \n",
       "\n",
       "                             Context Relevance_calls  \\\n",
       "0  [{'args': {'question': 'How can we analyzing y...   \n",
       "1                                                NaN   \n",
       "\n",
       "                              Answer Relevance_calls  latency  total_tokens  \\\n",
       "0  [{'args': {'prompt': 'How can we analyzing you...        7           198   \n",
       "1                                                NaN       12           247   \n",
       "\n",
       "   total_cost  \n",
       "0    0.000335  \n",
       "1    0.000436  "
      ]
     },
     "execution_count": 18,
     "metadata": {},
     "output_type": "execute_result"
    }
   ],
   "source": [
    "records.head()"
   ]
  },
  {
   "cell_type": "markdown",
   "metadata": {},
   "source": [
    "## Advanced RAG pipeline"
   ]
  },
  {
   "cell_type": "markdown",
   "metadata": {},
   "source": [
    "### 1. Sentence Window retrieval"
   ]
  },
  {
   "cell_type": "code",
   "execution_count": 19,
   "metadata": {},
   "outputs": [],
   "source": [
    "from llama_index.llms import OpenAI\n",
    "\n",
    "llm = OpenAI(model=\"gpt-3.5-turbo\", temperature=0.1)"
   ]
  },
  {
   "cell_type": "code",
   "execution_count": 20,
   "metadata": {},
   "outputs": [],
   "source": [
    "\n",
    "embed_model = HuggingFaceEmbedding(model_name=\"BAAI/bge-small-en-v1.5\")\n",
    "\n",
    "\n",
    "sentence_index = build_sentence_window_index(\n",
    "    documnet,\n",
    "    llm,\n",
    "    embed_model=embed_model,\n",
    "    save_dir=\"sentence_index\"\n",
    ")"
   ]
  },
  {
   "cell_type": "code",
   "execution_count": 21,
   "metadata": {},
   "outputs": [],
   "source": [
    "from utils_Adv_RAG_Retriver import get_sentence_window_query_engine\n",
    "\n",
    "sentence_window_engine = get_sentence_window_query_engine(sentence_index)"
   ]
  },
  {
   "cell_type": "code",
   "execution_count": 22,
   "metadata": {},
   "outputs": [
    {
     "name": "stdout",
     "output_type": "stream",
     "text": [
      "To publish a container in ECR, you need to follow these steps:\n",
      "\n",
      "1. Create an ECR repository using the AWS CLI command `aws ecr create-repository`. Specify the repository name and the desired region. Make sure to enable image scanning by setting `scanOnPush=true`.\n",
      "\n",
      "2. After creating the repository, you will receive metadata that includes the repository URI. Take note of this URI for later steps.\n",
      "\n",
      "3. Log in to the container registry using the `docker login` command in the Terminal. Use the repository URI provided in the metadata.\n",
      "\n",
      "4. Build your container image using a Dockerfile. In the Dockerfile, specify the base image, copy the necessary files, and define any other required configurations.\n",
      "\n",
      "5. Tag your container image using the repository URI and a desired tag.\n",
      "\n",
      "6. Push the tagged container image to the ECR repository using the `docker push` command.\n",
      "\n",
      "By following these steps, you can successfully publish your container in ECR.\n"
     ]
    }
   ],
   "source": [
    "window_response = sentence_window_engine.query(\n",
    "    \"How to publish in ECR\"\n",
    ")\n",
    "print(str(window_response))"
   ]
  },
  {
   "cell_type": "code",
   "execution_count": 23,
   "metadata": {},
   "outputs": [
    {
     "name": "stdout",
     "output_type": "stream",
     "text": [
      "✅ In Answer Relevance, input prompt will be set to __record__.main_input or `Select.RecordInput` .\n",
      "✅ In Answer Relevance, input response will be set to __record__.main_output or `Select.RecordOutput` .\n",
      "✅ In Context Relevance, input question will be set to __record__.main_input or `Select.RecordInput` .\n",
      "✅ In Context Relevance, input statement will be set to __record__.app.query.rets.source_nodes[:].node.text .\n",
      "✅ In Groundedness, input source will be set to __record__.app.query.rets.source_nodes[:].node.text .\n",
      "✅ In Groundedness, input statement will be set to __record__.main_output or `Select.RecordOutput` .\n"
     ]
    }
   ],
   "source": [
    "tru.reset_database()\n",
    "\n",
    "tru_recorder_sentence_window = get_prebuilt_trulens_recorder(\n",
    "    sentence_window_engine,\n",
    "    app_id = \"Sentence Window Query Engine\"\n",
    ")"
   ]
  },
  {
   "cell_type": "code",
   "execution_count": 24,
   "metadata": {},
   "outputs": [
    {
     "name": "stdout",
     "output_type": "stream",
     "text": [
      "How can we analyzing your own code for security issues\n",
      "To analyze your own code for security issues, you can use the open-source Bandit package. Bandit is a linter that is specifically designed to find security issues in source code. It allows you to perform static analysis of your code and check for vulnerabilities that may have been introduced during development. Bandit is easy to run and can help you identify potential security risks in your code.\n",
      "How to publish in ECR\n",
      "To publish a container in ECR, you need to follow these steps:\n",
      "\n",
      "1. Create an ECR repository using the AWS CLI command `aws ecr create-repository`. Specify the repository name and the desired region. Make sure to enable image scanning by setting the `--image-scanning-configuration` flag to `scanOnPush=true`.\n",
      "\n",
      "2. After creating the repository, you will receive metadata that includes the repository URI. Take note of this URI for later steps.\n",
      "\n",
      "3. Log in to the container registry using the `docker login` command in the Terminal. Use the repository URI provided in the metadata.\n",
      "\n",
      "4. Build your container image using the Dockerfile defined in your project directory.\n",
      "\n",
      "5. Tag the built image with the repository URI using the `docker tag` command.\n",
      "\n",
      "6. Push the tagged image to the ECR repository using the `docker push` command.\n",
      "\n",
      "By following these steps, you can successfully publish your container in ECR.\n"
     ]
    }
   ],
   "source": [
    "for question in eval_questions:\n",
    "    with tru_recorder_sentence_window as recording:\n",
    "        response = sentence_window_engine.query(question)\n",
    "        print(question)\n",
    "        print(str(response))"
   ]
  },
  {
   "cell_type": "code",
   "execution_count": 25,
   "metadata": {},
   "outputs": [
    {
     "data": {
      "text/html": [
       "<div>\n",
       "<style scoped>\n",
       "    .dataframe tbody tr th:only-of-type {\n",
       "        vertical-align: middle;\n",
       "    }\n",
       "\n",
       "    .dataframe tbody tr th {\n",
       "        vertical-align: top;\n",
       "    }\n",
       "\n",
       "    .dataframe thead th {\n",
       "        text-align: right;\n",
       "    }\n",
       "</style>\n",
       "<table border=\"1\" class=\"dataframe\">\n",
       "  <thead>\n",
       "    <tr style=\"text-align: right;\">\n",
       "      <th></th>\n",
       "      <th>Context Relevance</th>\n",
       "      <th>Answer Relevance</th>\n",
       "      <th>Groundedness</th>\n",
       "      <th>latency</th>\n",
       "      <th>total_cost</th>\n",
       "    </tr>\n",
       "    <tr>\n",
       "      <th>app_id</th>\n",
       "      <th></th>\n",
       "      <th></th>\n",
       "      <th></th>\n",
       "      <th></th>\n",
       "      <th></th>\n",
       "    </tr>\n",
       "  </thead>\n",
       "  <tbody>\n",
       "    <tr>\n",
       "      <th>Sentence Window Query Engine</th>\n",
       "      <td>0.6</td>\n",
       "      <td>0.95</td>\n",
       "      <td>0.75</td>\n",
       "      <td>16.0</td>\n",
       "      <td>0.001121</td>\n",
       "    </tr>\n",
       "  </tbody>\n",
       "</table>\n",
       "</div>"
      ],
      "text/plain": [
       "                              Context Relevance  Answer Relevance  \\\n",
       "app_id                                                              \n",
       "Sentence Window Query Engine                0.6              0.95   \n",
       "\n",
       "                              Groundedness  latency  total_cost  \n",
       "app_id                                                           \n",
       "Sentence Window Query Engine          0.75     16.0    0.001121  "
      ]
     },
     "execution_count": 25,
     "metadata": {},
     "output_type": "execute_result"
    }
   ],
   "source": [
    "tru.get_leaderboard(app_ids=[])"
   ]
  },
  {
   "cell_type": "code",
   "execution_count": 26,
   "metadata": {},
   "outputs": [],
   "source": [
    "records, feedback = tru.get_records_and_feedback(app_ids=[])"
   ]
  },
  {
   "cell_type": "code",
   "execution_count": 27,
   "metadata": {},
   "outputs": [
    {
     "data": {
      "text/html": [
       "<div>\n",
       "<style scoped>\n",
       "    .dataframe tbody tr th:only-of-type {\n",
       "        vertical-align: middle;\n",
       "    }\n",
       "\n",
       "    .dataframe tbody tr th {\n",
       "        vertical-align: top;\n",
       "    }\n",
       "\n",
       "    .dataframe thead th {\n",
       "        text-align: right;\n",
       "    }\n",
       "</style>\n",
       "<table border=\"1\" class=\"dataframe\">\n",
       "  <thead>\n",
       "    <tr style=\"text-align: right;\">\n",
       "      <th></th>\n",
       "      <th>app_id</th>\n",
       "      <th>app_json</th>\n",
       "      <th>type</th>\n",
       "      <th>record_id</th>\n",
       "      <th>input</th>\n",
       "      <th>output</th>\n",
       "      <th>tags</th>\n",
       "      <th>record_json</th>\n",
       "      <th>cost_json</th>\n",
       "      <th>perf_json</th>\n",
       "      <th>ts</th>\n",
       "      <th>Answer Relevance</th>\n",
       "      <th>Context Relevance</th>\n",
       "      <th>Groundedness</th>\n",
       "      <th>Answer Relevance_calls</th>\n",
       "      <th>Context Relevance_calls</th>\n",
       "      <th>Groundedness_calls</th>\n",
       "      <th>latency</th>\n",
       "      <th>total_tokens</th>\n",
       "      <th>total_cost</th>\n",
       "    </tr>\n",
       "  </thead>\n",
       "  <tbody>\n",
       "    <tr>\n",
       "      <th>0</th>\n",
       "      <td>Sentence Window Query Engine</td>\n",
       "      <td>{\"app_id\": \"Sentence Window Query Engine\", \"ta...</td>\n",
       "      <td>RetrieverQueryEngine(llama_index.query_engine....</td>\n",
       "      <td>record_hash_e72f098031eba897268f3fdbf3d3dd51</td>\n",
       "      <td>\"How can we analyzing your own code for securi...</td>\n",
       "      <td>\"To analyze your own code for security issues,...</td>\n",
       "      <td>-</td>\n",
       "      <td>{\"record_id\": \"record_hash_e72f098031eba897268...</td>\n",
       "      <td>{\"n_requests\": 1, \"n_successful_requests\": 1, ...</td>\n",
       "      <td>{\"start_time\": \"2023-12-03T13:10:35.022155\", \"...</td>\n",
       "      <td>2023-12-03T13:10:46.619578</td>\n",
       "      <td>0.9</td>\n",
       "      <td>0.8</td>\n",
       "      <td>0.75</td>\n",
       "      <td>[{'args': {'prompt': 'How can we analyzing you...</td>\n",
       "      <td>[{'args': {'question': 'How can we analyzing y...</td>\n",
       "      <td>[{'args': {'source': 'Since machine learning s...</td>\n",
       "      <td>11</td>\n",
       "      <td>681</td>\n",
       "      <td>0.001060</td>\n",
       "    </tr>\n",
       "    <tr>\n",
       "      <th>1</th>\n",
       "      <td>Sentence Window Query Engine</td>\n",
       "      <td>{\"app_id\": \"Sentence Window Query Engine\", \"ta...</td>\n",
       "      <td>RetrieverQueryEngine(llama_index.query_engine....</td>\n",
       "      <td>record_hash_1d7830f2ad176bce6546d2a150c5bdaa</td>\n",
       "      <td>\"How to publish in ECR\"</td>\n",
       "      <td>\"To publish a container in ECR, you need to fo...</td>\n",
       "      <td>-</td>\n",
       "      <td>{\"record_id\": \"record_hash_1d7830f2ad176bce654...</td>\n",
       "      <td>{\"n_requests\": 1, \"n_successful_requests\": 1, ...</td>\n",
       "      <td>{\"start_time\": \"2023-12-03T13:10:46.942843\", \"...</td>\n",
       "      <td>2023-12-03T13:11:08.009491</td>\n",
       "      <td>1.0</td>\n",
       "      <td>0.4</td>\n",
       "      <td>0.25</td>\n",
       "      <td>[{'args': {'prompt': 'How to publish in ECR', ...</td>\n",
       "      <td>[{'args': {'question': 'How to publish in ECR'...</td>\n",
       "      <td>[{'args': {'source': 'ENV PATH=/root/.local:$P...</td>\n",
       "      <td>21</td>\n",
       "      <td>724</td>\n",
       "      <td>0.001182</td>\n",
       "    </tr>\n",
       "  </tbody>\n",
       "</table>\n",
       "</div>"
      ],
      "text/plain": [
       "                         app_id  \\\n",
       "0  Sentence Window Query Engine   \n",
       "1  Sentence Window Query Engine   \n",
       "\n",
       "                                            app_json  \\\n",
       "0  {\"app_id\": \"Sentence Window Query Engine\", \"ta...   \n",
       "1  {\"app_id\": \"Sentence Window Query Engine\", \"ta...   \n",
       "\n",
       "                                                type  \\\n",
       "0  RetrieverQueryEngine(llama_index.query_engine....   \n",
       "1  RetrieverQueryEngine(llama_index.query_engine....   \n",
       "\n",
       "                                      record_id  \\\n",
       "0  record_hash_e72f098031eba897268f3fdbf3d3dd51   \n",
       "1  record_hash_1d7830f2ad176bce6546d2a150c5bdaa   \n",
       "\n",
       "                                               input  \\\n",
       "0  \"How can we analyzing your own code for securi...   \n",
       "1                            \"How to publish in ECR\"   \n",
       "\n",
       "                                              output tags  \\\n",
       "0  \"To analyze your own code for security issues,...    -   \n",
       "1  \"To publish a container in ECR, you need to fo...    -   \n",
       "\n",
       "                                         record_json  \\\n",
       "0  {\"record_id\": \"record_hash_e72f098031eba897268...   \n",
       "1  {\"record_id\": \"record_hash_1d7830f2ad176bce654...   \n",
       "\n",
       "                                           cost_json  \\\n",
       "0  {\"n_requests\": 1, \"n_successful_requests\": 1, ...   \n",
       "1  {\"n_requests\": 1, \"n_successful_requests\": 1, ...   \n",
       "\n",
       "                                           perf_json  \\\n",
       "0  {\"start_time\": \"2023-12-03T13:10:35.022155\", \"...   \n",
       "1  {\"start_time\": \"2023-12-03T13:10:46.942843\", \"...   \n",
       "\n",
       "                           ts  Answer Relevance  Context Relevance  \\\n",
       "0  2023-12-03T13:10:46.619578               0.9                0.8   \n",
       "1  2023-12-03T13:11:08.009491               1.0                0.4   \n",
       "\n",
       "   Groundedness                             Answer Relevance_calls  \\\n",
       "0          0.75  [{'args': {'prompt': 'How can we analyzing you...   \n",
       "1          0.25  [{'args': {'prompt': 'How to publish in ECR', ...   \n",
       "\n",
       "                             Context Relevance_calls  \\\n",
       "0  [{'args': {'question': 'How can we analyzing y...   \n",
       "1  [{'args': {'question': 'How to publish in ECR'...   \n",
       "\n",
       "                                  Groundedness_calls  latency  total_tokens  \\\n",
       "0  [{'args': {'source': 'Since machine learning s...       11           681   \n",
       "1  [{'args': {'source': 'ENV PATH=/root/.local:$P...       21           724   \n",
       "\n",
       "   total_cost  \n",
       "0    0.001060  \n",
       "1    0.001182  "
      ]
     },
     "execution_count": 27,
     "metadata": {},
     "output_type": "execute_result"
    }
   ],
   "source": [
    "records.head()"
   ]
  }
 ],
 "metadata": {
  "kernelspec": {
   "display_name": "Adv_RAG_lamaindx_venv",
   "language": "python",
   "name": "python3"
  },
  "language_info": {
   "codemirror_mode": {
    "name": "ipython",
    "version": 3
   },
   "file_extension": ".py",
   "mimetype": "text/x-python",
   "name": "python",
   "nbconvert_exporter": "python",
   "pygments_lexer": "ipython3",
   "version": "3.10.0"
  }
 },
 "nbformat": 4,
 "nbformat_minor": 2
}
