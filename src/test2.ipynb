{
 "cells": [
  {
   "cell_type": "code",
   "execution_count": 1,
   "metadata": {},
   "outputs": [],
   "source": [
    "from llama_index.llms import OpenAI\n",
    "import os\n",
    "from llama_index import StorageContext, load_index_from_storage\n",
    "from dotenv import load_dotenv\n",
    "\n",
    "from Retrever_Setence_Window_retrieval import Sentence_Window_Retriever, Sentence_Window_Engine\n",
    "from utils_Adv_RAG_Retriver import build_sentence_window_index, get_sentence_window_query_engine\n",
    "from llama_index import SimpleDirectoryReader\n",
    "from llama_index.response.notebook_utils import display_response\n",
    "\n",
    "from llama_index import Document\n",
    "\n",
    "from llama_index.llms import OpenAI\n",
    "import  openai\n",
    "from adv_retriever import Create_Query_Engine,get_response\n",
    "\n",
    "\n"
   ]
  },
  {
   "cell_type": "code",
   "execution_count": 2,
   "metadata": {},
   "outputs": [],
   "source": [
    "# Loading and cchunking the documents\n",
    "\n",
    "documents=SimpleDirectoryReader(\n",
    "    input_files=[\"../data/savings-fitness.pdf\"]\n",
    ").load_data()\n",
    "\n",
    "\n",
    "document = Document(text=\"\\n\\n\".join([doc.text for doc in documents]))"
   ]
  },
  {
   "cell_type": "code",
   "execution_count": 3,
   "metadata": {},
   "outputs": [],
   "source": [
    "def Process_doc(dir_path):\n",
    "    documents=SimpleDirectoryReader(\n",
    "    input_dir=dir_path\n",
    "    ).load_data()\n",
    "\n",
    "\n",
    "    document = Document(text=\"\\n\\n\".join([doc.text for doc in documents]))\n",
    "\n",
    "    return document\n",
    "\n",
    "\n",
    "\n",
    "def Create_Sentence_Window_Retriever(open_api_key,model_select,temp,document):\n",
    "    openai.api_key=open_api_key\n",
    "    llm=OpenAI(model_select,temp)\n",
    "\n",
    "    # create index\n",
    "    index=build_sentence_window_index(\n",
    "        [document],\n",
    "        llm=llm,\n",
    "        save_dir=\"./sentence_index\",\n",
    "\n",
    "    )\n",
    "\n",
    "    return index\n",
    "\n",
    "def Create_Query_Engine(index):\n",
    "    query_engine = get_sentence_window_query_engine(index, similarity_top_k=6)\n",
    "\n",
    "    return query_engine\n",
    "\n",
    "def get_response(query_engine,query):\n",
    "   response= query_engine.query(query)\n",
    "   return response\n",
    "\n",
    "\n"
   ]
  },
  {
   "cell_type": "code",
   "execution_count": 4,
   "metadata": {},
   "outputs": [],
   "source": [
    "dir_path=\"./data_st\"\n",
    "document= Process_doc(dir_path)"
   ]
  },
  {
   "cell_type": "code",
   "execution_count": 9,
   "metadata": {},
   "outputs": [],
   "source": [
    "# Loading OPEN AI KEY\n",
    "load_dotenv()\n",
    "OPENAI_API_KEY=os.environ['OPENAI_API_KEY']\n",
    "openai.api_key=os.environ[\"OPENAI_API_KEY\"]\n"
   ]
  },
  {
   "cell_type": "code",
   "execution_count": 6,
   "metadata": {},
   "outputs": [],
   "source": [
    "model_select='gpt-3.5-turbo'\n",
    "temperature_input=0.1\n",
    "\n",
    "index= Create_Sentence_Window_Retriever(OPENAI_API_KEY,model_select,temperature_input,document)"
   ]
  },
  {
   "cell_type": "code",
   "execution_count": 7,
   "metadata": {},
   "outputs": [],
   "source": [
    "query_engine= Create_Query_Engine(index)\n"
   ]
  },
  {
   "cell_type": "code",
   "execution_count": 7,
   "metadata": {},
   "outputs": [],
   "source": [
    "# from adv_retriever import Process_doc,Create_Sentence_Window_Retriever,Create_Query_Engine,get_response\n",
    "# dir_path=\"./data_st\"\n",
    "# document= Process_doc(dir_path)\n",
    "\n",
    "# model_select='gpt-3.5-turbo'\n",
    "# temperature_input=0.1\n",
    "\n",
    "# index= Create_Sentence_Window_Retriever(OPENAI_API_KEY,model_select,temperature_input,document)\n",
    "# storage_context = StorageContext.from_defaults()\n",
    "# index.storage_context.persist(\"./vectordatabase\")\n",
    "# # query_engine= Create_Query_Engine(index)\n",
    "\n",
    "\n",
    "\n"
   ]
  },
  {
   "cell_type": "code",
   "execution_count": 8,
   "metadata": {},
   "outputs": [
    {
     "data": {
      "text/markdown": [
       "**`Final Response:`** To strengthen your financial plan, it is important to consider a few factors. Firstly, you should focus on understanding the different levels of investment required for various designs. This means evaluating whether a complex solution, such as training a deep neural net on a large dataset, is necessary or if a simpler approach, like basic clustering and statistics, can achieve the same results. Secondly, you need to be clear about the value your financial plan will generate. This involves assessing the potential return on investment (ROI) and ensuring that the value proposition is strong enough. Additionally, it is crucial to gather relevant information early on. For instance, if your financial plan relies on data from a legacy internal financial system, you should determine if there are any limitations or challenges in accessing that data. By addressing these considerations, you can strengthen your financial plan and make informed decisions."
      ],
      "text/plain": [
       "<IPython.core.display.Markdown object>"
      ]
     },
     "metadata": {},
     "output_type": "display_data"
    }
   ],
   "source": [
    "query=\"How can i strengthen my financial plan?\"\n",
    "res= get_response(query_engine,query)\n",
    "display_response(res)"
   ]
  }
 ],
 "metadata": {
  "kernelspec": {
   "display_name": "Adv_RAG_lamaindx_venv",
   "language": "python",
   "name": "python3"
  },
  "language_info": {
   "codemirror_mode": {
    "name": "ipython",
    "version": 3
   },
   "file_extension": ".py",
   "mimetype": "text/x-python",
   "name": "python",
   "nbconvert_exporter": "python",
   "pygments_lexer": "ipython3",
   "version": "3.10.0"
  }
 },
 "nbformat": 4,
 "nbformat_minor": 2
}
